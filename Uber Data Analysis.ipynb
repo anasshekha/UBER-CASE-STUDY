{
 "cells": [
  {
   "cell_type": "code",
   "execution_count": 26,
   "metadata": {},
   "outputs": [],
   "source": [
    "import numpy as np\n",
    "import pandas as pd\n",
    "import matplotlib.pyplot as plt\n",
    "import seaborn as sb\n",
    "%matplotlib inline"
   ]
  },
  {
   "cell_type": "code",
   "execution_count": 27,
   "metadata": {},
   "outputs": [],
   "source": [
    "df = pd.read_csv('Uber Request Data (2).csv')"
   ]
  },
  {
   "cell_type": "code",
   "execution_count": 28,
   "metadata": {},
   "outputs": [
    {
     "data": {
      "text/html": [
       "<div>\n",
       "<style scoped>\n",
       "    .dataframe tbody tr th:only-of-type {\n",
       "        vertical-align: middle;\n",
       "    }\n",
       "\n",
       "    .dataframe tbody tr th {\n",
       "        vertical-align: top;\n",
       "    }\n",
       "\n",
       "    .dataframe thead th {\n",
       "        text-align: right;\n",
       "    }\n",
       "</style>\n",
       "<table border=\"1\" class=\"dataframe\">\n",
       "  <thead>\n",
       "    <tr style=\"text-align: right;\">\n",
       "      <th></th>\n",
       "      <th>Request id</th>\n",
       "      <th>Pickup point</th>\n",
       "      <th>Driver id</th>\n",
       "      <th>Status</th>\n",
       "      <th>Request timestamp</th>\n",
       "      <th>Drop timestamp</th>\n",
       "    </tr>\n",
       "  </thead>\n",
       "  <tbody>\n",
       "    <tr>\n",
       "      <th>0</th>\n",
       "      <td>619</td>\n",
       "      <td>Airport</td>\n",
       "      <td>1.0</td>\n",
       "      <td>Trip Completed</td>\n",
       "      <td>11/7/2016 11:51</td>\n",
       "      <td>11/7/2016 13:00</td>\n",
       "    </tr>\n",
       "    <tr>\n",
       "      <th>1</th>\n",
       "      <td>867</td>\n",
       "      <td>Airport</td>\n",
       "      <td>1.0</td>\n",
       "      <td>Trip Completed</td>\n",
       "      <td>11/7/2016 17:57</td>\n",
       "      <td>11/7/2016 18:47</td>\n",
       "    </tr>\n",
       "    <tr>\n",
       "      <th>2</th>\n",
       "      <td>1807</td>\n",
       "      <td>City</td>\n",
       "      <td>1.0</td>\n",
       "      <td>Trip Completed</td>\n",
       "      <td>12/7/2016 9:17</td>\n",
       "      <td>12/7/2016 9:58</td>\n",
       "    </tr>\n",
       "    <tr>\n",
       "      <th>3</th>\n",
       "      <td>2532</td>\n",
       "      <td>Airport</td>\n",
       "      <td>1.0</td>\n",
       "      <td>Trip Completed</td>\n",
       "      <td>12/7/2016 21:08</td>\n",
       "      <td>12/7/2016 22:03</td>\n",
       "    </tr>\n",
       "    <tr>\n",
       "      <th>4</th>\n",
       "      <td>3112</td>\n",
       "      <td>City</td>\n",
       "      <td>1.0</td>\n",
       "      <td>Trip Completed</td>\n",
       "      <td>13-07-2016 08:33:16</td>\n",
       "      <td>13-07-2016 09:25:47</td>\n",
       "    </tr>\n",
       "  </tbody>\n",
       "</table>\n",
       "</div>"
      ],
      "text/plain": [
       "   Request id Pickup point  Driver id          Status    Request timestamp  \\\n",
       "0         619      Airport        1.0  Trip Completed      11/7/2016 11:51   \n",
       "1         867      Airport        1.0  Trip Completed      11/7/2016 17:57   \n",
       "2        1807         City        1.0  Trip Completed       12/7/2016 9:17   \n",
       "3        2532      Airport        1.0  Trip Completed      12/7/2016 21:08   \n",
       "4        3112         City        1.0  Trip Completed  13-07-2016 08:33:16   \n",
       "\n",
       "        Drop timestamp  \n",
       "0      11/7/2016 13:00  \n",
       "1      11/7/2016 18:47  \n",
       "2       12/7/2016 9:58  \n",
       "3      12/7/2016 22:03  \n",
       "4  13-07-2016 09:25:47  "
      ]
     },
     "execution_count": 28,
     "metadata": {},
     "output_type": "execute_result"
    }
   ],
   "source": [
    "df.head()"
   ]
  },
  {
   "cell_type": "code",
   "execution_count": 29,
   "metadata": {},
   "outputs": [
    {
     "data": {
      "text/plain": [
       "True"
      ]
     },
     "execution_count": 29,
     "metadata": {},
     "output_type": "execute_result"
    }
   ],
   "source": [
    "# make sure that number of duplicate rows are zero\n",
    "sum(df.duplicated(subset = 'Request id')) == 0"
   ]
  },
  {
   "cell_type": "code",
   "execution_count": 30,
   "metadata": {},
   "outputs": [
    {
     "data": {
      "text/plain": [
       "(6745, 6)"
      ]
     },
     "execution_count": 30,
     "metadata": {},
     "output_type": "execute_result"
    }
   ],
   "source": [
    "# dimension of the data\n",
    "df.shape"
   ]
  },
  {
   "cell_type": "code",
   "execution_count": 31,
   "metadata": {},
   "outputs": [
    {
     "data": {
      "text/plain": [
       "Request id              0\n",
       "Pickup point            0\n",
       "Driver id            2650\n",
       "Status                  0\n",
       "Request timestamp       0\n",
       "Drop timestamp       3914\n",
       "dtype: int64"
      ]
     },
     "execution_count": 31,
     "metadata": {},
     "output_type": "execute_result"
    }
   ],
   "source": [
    "# checking for the null value in the data\n",
    "df.isnull().sum()"
   ]
  },
  {
   "cell_type": "code",
   "execution_count": 32,
   "metadata": {},
   "outputs": [
    {
     "data": {
      "text/plain": [
       "Request id            0.000000\n",
       "Pickup point          0.000000\n",
       "Driver id            39.288362\n",
       "Status                0.000000\n",
       "Request timestamp     0.000000\n",
       "Drop timestamp       58.028169\n",
       "dtype: float64"
      ]
     },
     "execution_count": 32,
     "metadata": {},
     "output_type": "execute_result"
    }
   ],
   "source": [
    "# percentage of null values\n",
    "df.isnull().sum()*100/df.shape[0]"
   ]
  },
  {
   "cell_type": "code",
   "execution_count": 33,
   "metadata": {},
   "outputs": [],
   "source": [
    "# convert request timestrap into date-time object\n",
    "df['Request timestamp'] = df['Request timestamp'].astype(str)\n",
    "df['Request timestamp'] = df['Request timestamp'].str.replace('/', '-')\n",
    "df['Request timestamp'] = pd.to_datetime(df['Request timestamp'], dayfirst = True)"
   ]
  },
  {
   "cell_type": "code",
   "execution_count": 34,
   "metadata": {},
   "outputs": [
    {
     "data": {
      "text/plain": [
       "0   2016-07-11 11:51:00\n",
       "1   2016-07-11 17:57:00\n",
       "2   2016-07-12 09:17:00\n",
       "3   2016-07-12 21:08:00\n",
       "4   2016-07-13 08:33:16\n",
       "Name: Request timestamp, dtype: datetime64[ns]"
      ]
     },
     "execution_count": 34,
     "metadata": {},
     "output_type": "execute_result"
    }
   ],
   "source": [
    "df['Request timestamp'].head()"
   ]
  },
  {
   "cell_type": "code",
   "execution_count": 35,
   "metadata": {},
   "outputs": [],
   "source": [
    "# convert request timestrap into date-time object\n",
    "df['Drop timestamp'] = df['Drop timestamp'].astype(str)\n",
    "df['Drop timestamp'] = df['Drop timestamp'].str.replace('/', '-')\n",
    "df['Drop timestamp'] = pd.to_datetime(df['Drop timestamp'], dayfirst = True)"
   ]
  },
  {
   "cell_type": "code",
   "execution_count": 36,
   "metadata": {},
   "outputs": [
    {
     "data": {
      "text/plain": [
       "0   2016-07-11 13:00:00\n",
       "1   2016-07-11 18:47:00\n",
       "2   2016-07-12 09:58:00\n",
       "3   2016-07-12 22:03:00\n",
       "4   2016-07-13 09:25:47\n",
       "Name: Drop timestamp, dtype: datetime64[ns]"
      ]
     },
     "execution_count": 36,
     "metadata": {},
     "output_type": "execute_result"
    }
   ],
   "source": [
    "df['Drop timestamp'].head()"
   ]
  },
  {
   "cell_type": "code",
   "execution_count": 37,
   "metadata": {},
   "outputs": [
    {
     "name": "stdout",
     "output_type": "stream",
     "text": [
      "<class 'pandas.core.frame.DataFrame'>\n",
      "RangeIndex: 6745 entries, 0 to 6744\n",
      "Data columns (total 6 columns):\n",
      " #   Column             Non-Null Count  Dtype         \n",
      "---  ------             --------------  -----         \n",
      " 0   Request id         6745 non-null   int64         \n",
      " 1   Pickup point       6745 non-null   object        \n",
      " 2   Driver id          4095 non-null   float64       \n",
      " 3   Status             6745 non-null   object        \n",
      " 4   Request timestamp  6745 non-null   datetime64[ns]\n",
      " 5   Drop timestamp     2831 non-null   datetime64[ns]\n",
      "dtypes: datetime64[ns](2), float64(1), int64(1), object(2)\n",
      "memory usage: 316.3+ KB\n"
     ]
    }
   ],
   "source": [
    "df.info()"
   ]
  },
  {
   "cell_type": "code",
   "execution_count": 38,
   "metadata": {},
   "outputs": [
    {
     "data": {
      "text/html": [
       "<div>\n",
       "<style scoped>\n",
       "    .dataframe tbody tr th:only-of-type {\n",
       "        vertical-align: middle;\n",
       "    }\n",
       "\n",
       "    .dataframe tbody tr th {\n",
       "        vertical-align: top;\n",
       "    }\n",
       "\n",
       "    .dataframe thead th {\n",
       "        text-align: right;\n",
       "    }\n",
       "</style>\n",
       "<table border=\"1\" class=\"dataframe\">\n",
       "  <thead>\n",
       "    <tr style=\"text-align: right;\">\n",
       "      <th></th>\n",
       "      <th>Request id</th>\n",
       "      <th>Driver id</th>\n",
       "    </tr>\n",
       "  </thead>\n",
       "  <tbody>\n",
       "    <tr>\n",
       "      <th>count</th>\n",
       "      <td>6745.000000</td>\n",
       "      <td>4095.000000</td>\n",
       "    </tr>\n",
       "    <tr>\n",
       "      <th>mean</th>\n",
       "      <td>3384.644922</td>\n",
       "      <td>149.501343</td>\n",
       "    </tr>\n",
       "    <tr>\n",
       "      <th>std</th>\n",
       "      <td>1955.099667</td>\n",
       "      <td>86.051994</td>\n",
       "    </tr>\n",
       "    <tr>\n",
       "      <th>min</th>\n",
       "      <td>1.000000</td>\n",
       "      <td>1.000000</td>\n",
       "    </tr>\n",
       "    <tr>\n",
       "      <th>25%</th>\n",
       "      <td>1691.000000</td>\n",
       "      <td>75.000000</td>\n",
       "    </tr>\n",
       "    <tr>\n",
       "      <th>50%</th>\n",
       "      <td>3387.000000</td>\n",
       "      <td>149.000000</td>\n",
       "    </tr>\n",
       "    <tr>\n",
       "      <th>75%</th>\n",
       "      <td>5080.000000</td>\n",
       "      <td>224.000000</td>\n",
       "    </tr>\n",
       "    <tr>\n",
       "      <th>max</th>\n",
       "      <td>6766.000000</td>\n",
       "      <td>300.000000</td>\n",
       "    </tr>\n",
       "  </tbody>\n",
       "</table>\n",
       "</div>"
      ],
      "text/plain": [
       "        Request id    Driver id\n",
       "count  6745.000000  4095.000000\n",
       "mean   3384.644922   149.501343\n",
       "std    1955.099667    86.051994\n",
       "min       1.000000     1.000000\n",
       "25%    1691.000000    75.000000\n",
       "50%    3387.000000   149.000000\n",
       "75%    5080.000000   224.000000\n",
       "max    6766.000000   300.000000"
      ]
     },
     "execution_count": 38,
     "metadata": {},
     "output_type": "execute_result"
    }
   ],
   "source": [
    "df.describe()"
   ]
  },
  {
   "cell_type": "code",
   "execution_count": 39,
   "metadata": {},
   "outputs": [],
   "source": [
    "# extract the hour from the request time\n",
    "req_hour = df[\"Request timestamp\"].dt.hour\n",
    "req_hour.head()\n",
    "req_hour.value_counts()\n",
    "df['req_hour'] = req_hour"
   ]
  },
  {
   "cell_type": "code",
   "execution_count": 40,
   "metadata": {},
   "outputs": [
    {
     "data": {
      "text/html": [
       "<div>\n",
       "<style scoped>\n",
       "    .dataframe tbody tr th:only-of-type {\n",
       "        vertical-align: middle;\n",
       "    }\n",
       "\n",
       "    .dataframe tbody tr th {\n",
       "        vertical-align: top;\n",
       "    }\n",
       "\n",
       "    .dataframe thead th {\n",
       "        text-align: right;\n",
       "    }\n",
       "</style>\n",
       "<table border=\"1\" class=\"dataframe\">\n",
       "  <thead>\n",
       "    <tr style=\"text-align: right;\">\n",
       "      <th></th>\n",
       "      <th>Request id</th>\n",
       "      <th>Pickup point</th>\n",
       "      <th>Driver id</th>\n",
       "      <th>Status</th>\n",
       "      <th>Request timestamp</th>\n",
       "      <th>Drop timestamp</th>\n",
       "      <th>req_hour</th>\n",
       "    </tr>\n",
       "  </thead>\n",
       "  <tbody>\n",
       "    <tr>\n",
       "      <th>0</th>\n",
       "      <td>619</td>\n",
       "      <td>Airport</td>\n",
       "      <td>1.0</td>\n",
       "      <td>Trip Completed</td>\n",
       "      <td>2016-07-11 11:51:00</td>\n",
       "      <td>2016-07-11 13:00:00</td>\n",
       "      <td>11</td>\n",
       "    </tr>\n",
       "    <tr>\n",
       "      <th>1</th>\n",
       "      <td>867</td>\n",
       "      <td>Airport</td>\n",
       "      <td>1.0</td>\n",
       "      <td>Trip Completed</td>\n",
       "      <td>2016-07-11 17:57:00</td>\n",
       "      <td>2016-07-11 18:47:00</td>\n",
       "      <td>17</td>\n",
       "    </tr>\n",
       "    <tr>\n",
       "      <th>2</th>\n",
       "      <td>1807</td>\n",
       "      <td>City</td>\n",
       "      <td>1.0</td>\n",
       "      <td>Trip Completed</td>\n",
       "      <td>2016-07-12 09:17:00</td>\n",
       "      <td>2016-07-12 09:58:00</td>\n",
       "      <td>9</td>\n",
       "    </tr>\n",
       "    <tr>\n",
       "      <th>3</th>\n",
       "      <td>2532</td>\n",
       "      <td>Airport</td>\n",
       "      <td>1.0</td>\n",
       "      <td>Trip Completed</td>\n",
       "      <td>2016-07-12 21:08:00</td>\n",
       "      <td>2016-07-12 22:03:00</td>\n",
       "      <td>21</td>\n",
       "    </tr>\n",
       "    <tr>\n",
       "      <th>4</th>\n",
       "      <td>3112</td>\n",
       "      <td>City</td>\n",
       "      <td>1.0</td>\n",
       "      <td>Trip Completed</td>\n",
       "      <td>2016-07-13 08:33:16</td>\n",
       "      <td>2016-07-13 09:25:47</td>\n",
       "      <td>8</td>\n",
       "    </tr>\n",
       "  </tbody>\n",
       "</table>\n",
       "</div>"
      ],
      "text/plain": [
       "   Request id Pickup point  Driver id          Status   Request timestamp  \\\n",
       "0         619      Airport        1.0  Trip Completed 2016-07-11 11:51:00   \n",
       "1         867      Airport        1.0  Trip Completed 2016-07-11 17:57:00   \n",
       "2        1807         City        1.0  Trip Completed 2016-07-12 09:17:00   \n",
       "3        2532      Airport        1.0  Trip Completed 2016-07-12 21:08:00   \n",
       "4        3112         City        1.0  Trip Completed 2016-07-13 08:33:16   \n",
       "\n",
       "       Drop timestamp  req_hour  \n",
       "0 2016-07-11 13:00:00        11  \n",
       "1 2016-07-11 18:47:00        17  \n",
       "2 2016-07-12 09:58:00         9  \n",
       "3 2016-07-12 22:03:00        21  \n",
       "4 2016-07-13 09:25:47         8  "
      ]
     },
     "execution_count": 40,
     "metadata": {},
     "output_type": "execute_result"
    }
   ],
   "source": [
    "df.head()"
   ]
  },
  {
   "cell_type": "code",
   "execution_count": 41,
   "metadata": {},
   "outputs": [],
   "source": [
    "# extract the day from request time\n",
    "req_day = df['Request timestamp'].dt.day\n",
    "df['req_day'] = req_day\n"
   ]
  },
  {
   "cell_type": "code",
   "execution_count": 42,
   "metadata": {},
   "outputs": [
    {
     "data": {
      "text/html": [
       "<div>\n",
       "<style scoped>\n",
       "    .dataframe tbody tr th:only-of-type {\n",
       "        vertical-align: middle;\n",
       "    }\n",
       "\n",
       "    .dataframe tbody tr th {\n",
       "        vertical-align: top;\n",
       "    }\n",
       "\n",
       "    .dataframe thead th {\n",
       "        text-align: right;\n",
       "    }\n",
       "</style>\n",
       "<table border=\"1\" class=\"dataframe\">\n",
       "  <thead>\n",
       "    <tr style=\"text-align: right;\">\n",
       "      <th></th>\n",
       "      <th>Request id</th>\n",
       "      <th>Pickup point</th>\n",
       "      <th>Driver id</th>\n",
       "      <th>Status</th>\n",
       "      <th>Request timestamp</th>\n",
       "      <th>Drop timestamp</th>\n",
       "      <th>req_hour</th>\n",
       "      <th>req_day</th>\n",
       "    </tr>\n",
       "  </thead>\n",
       "  <tbody>\n",
       "    <tr>\n",
       "      <th>0</th>\n",
       "      <td>619</td>\n",
       "      <td>Airport</td>\n",
       "      <td>1.0</td>\n",
       "      <td>Trip Completed</td>\n",
       "      <td>2016-07-11 11:51:00</td>\n",
       "      <td>2016-07-11 13:00:00</td>\n",
       "      <td>11</td>\n",
       "      <td>11</td>\n",
       "    </tr>\n",
       "    <tr>\n",
       "      <th>1</th>\n",
       "      <td>867</td>\n",
       "      <td>Airport</td>\n",
       "      <td>1.0</td>\n",
       "      <td>Trip Completed</td>\n",
       "      <td>2016-07-11 17:57:00</td>\n",
       "      <td>2016-07-11 18:47:00</td>\n",
       "      <td>17</td>\n",
       "      <td>11</td>\n",
       "    </tr>\n",
       "    <tr>\n",
       "      <th>2</th>\n",
       "      <td>1807</td>\n",
       "      <td>City</td>\n",
       "      <td>1.0</td>\n",
       "      <td>Trip Completed</td>\n",
       "      <td>2016-07-12 09:17:00</td>\n",
       "      <td>2016-07-12 09:58:00</td>\n",
       "      <td>9</td>\n",
       "      <td>12</td>\n",
       "    </tr>\n",
       "    <tr>\n",
       "      <th>3</th>\n",
       "      <td>2532</td>\n",
       "      <td>Airport</td>\n",
       "      <td>1.0</td>\n",
       "      <td>Trip Completed</td>\n",
       "      <td>2016-07-12 21:08:00</td>\n",
       "      <td>2016-07-12 22:03:00</td>\n",
       "      <td>21</td>\n",
       "      <td>12</td>\n",
       "    </tr>\n",
       "    <tr>\n",
       "      <th>4</th>\n",
       "      <td>3112</td>\n",
       "      <td>City</td>\n",
       "      <td>1.0</td>\n",
       "      <td>Trip Completed</td>\n",
       "      <td>2016-07-13 08:33:16</td>\n",
       "      <td>2016-07-13 09:25:47</td>\n",
       "      <td>8</td>\n",
       "      <td>13</td>\n",
       "    </tr>\n",
       "  </tbody>\n",
       "</table>\n",
       "</div>"
      ],
      "text/plain": [
       "   Request id Pickup point  Driver id          Status   Request timestamp  \\\n",
       "0         619      Airport        1.0  Trip Completed 2016-07-11 11:51:00   \n",
       "1         867      Airport        1.0  Trip Completed 2016-07-11 17:57:00   \n",
       "2        1807         City        1.0  Trip Completed 2016-07-12 09:17:00   \n",
       "3        2532      Airport        1.0  Trip Completed 2016-07-12 21:08:00   \n",
       "4        3112         City        1.0  Trip Completed 2016-07-13 08:33:16   \n",
       "\n",
       "       Drop timestamp  req_hour  req_day  \n",
       "0 2016-07-11 13:00:00        11       11  \n",
       "1 2016-07-11 18:47:00        17       11  \n",
       "2 2016-07-12 09:58:00         9       12  \n",
       "3 2016-07-12 22:03:00        21       12  \n",
       "4 2016-07-13 09:25:47         8       13  "
      ]
     },
     "execution_count": 42,
     "metadata": {},
     "output_type": "execute_result"
    }
   ],
   "source": [
    "df.head()"
   ]
  },
  {
   "cell_type": "code",
   "execution_count": 18,
   "metadata": {
    "scrolled": false
   },
   "outputs": [
    {
     "name": "stderr",
     "output_type": "stream",
     "text": [
      "C:\\Users\\admin\\anaconda3\\lib\\site-packages\\seaborn\\categorical.py:3704: UserWarning: The `factorplot` function has been renamed to `catplot`. The original name will be removed in a future release. Please update your code. Note that the default `kind` in `factorplot` (`'point'`) has changed `'strip'` in `catplot`.\n",
      "  warnings.warn(msg)\n",
      "C:\\Users\\admin\\anaconda3\\lib\\site-packages\\seaborn\\categorical.py:3710: UserWarning: The `size` parameter has been renamed to `height`; please update your code.\n",
      "  warnings.warn(msg, UserWarning)\n"
     ]
    },
    {
     "data": {
      "text/plain": [
       "<Figure size 720x720 with 0 Axes>"
      ]
     },
     "metadata": {},
     "output_type": "display_data"
    },
    {
     "data": {
      "image/png": "[encoded data removed]",
      "text/plain": [
       "<Figure size 627.5x2520 with 5 Axes>"
      ]
     },
     "metadata": {
      "needs_background": "light"
     },
     "output_type": "display_data"
    }
   ],
   "source": [
    "# factor plot of hour and day w.r.t status\n",
    "plt.figure(figsize = (10,10))\n",
    "sb.factorplot(x = 'req_hour', hue = 'Status', row = 'req_day', data = df, kind = 'count', size = 7)\n",
    "plt.show()"
   ]
  },
  {
   "cell_type": "code",
   "execution_count": 19,
   "metadata": {
    "scrolled": false
   },
   "outputs": [
    {
     "name": "stderr",
     "output_type": "stream",
     "text": [
      "C:\\Users\\admin\\anaconda3\\lib\\site-packages\\seaborn\\categorical.py:3704: UserWarning: The `factorplot` function has been renamed to `catplot`. The original name will be removed in a future release. Please update your code. Note that the default `kind` in `factorplot` (`'point'`) has changed `'strip'` in `catplot`.\n",
      "  warnings.warn(msg)\n",
      "C:\\Users\\admin\\anaconda3\\lib\\site-packages\\seaborn\\categorical.py:3710: UserWarning: The `size` parameter has been renamed to `height`; please update your code.\n",
      "  warnings.warn(msg, UserWarning)\n"
     ]
    },
    {
     "data": {
      "text/plain": [
       "<Figure size 720x720 with 0 Axes>"
      ]
     },
     "metadata": {},
     "output_type": "display_data"
    },
    {
     "data": {
      "image/png": "[encoded data removed]",
      "text/plain": [
       "<Figure size 574.125x2520 with 5 Axes>"
      ]
     },
     "metadata": {
      "needs_background": "light"
     },
     "output_type": "display_data"
    }
   ],
   "source": [
    "# factor plot of hour and day w.r.t pickup point\n",
    "plt.figure(figsize = (10,10))\n",
    "sb.factorplot(x = 'req_hour', hue = 'Pickup point', row = 'req_day', data = df, kind = 'count', size = 7)\n",
    "plt.show()"
   ]
  },
  {
   "cell_type": "code",
   "execution_count": 20,
   "metadata": {},
   "outputs": [
    {
     "name": "stderr",
     "output_type": "stream",
     "text": [
      "C:\\Users\\admin\\anaconda3\\lib\\site-packages\\seaborn\\categorical.py:3704: UserWarning: The `factorplot` function has been renamed to `catplot`. The original name will be removed in a future release. Please update your code. Note that the default `kind` in `factorplot` (`'point'`) has changed `'strip'` in `catplot`.\n",
      "  warnings.warn(msg)\n",
      "C:\\Users\\admin\\anaconda3\\lib\\site-packages\\seaborn\\categorical.py:3710: UserWarning: The `size` parameter has been renamed to `height`; please update your code.\n",
      "  warnings.warn(msg, UserWarning)\n"
     ]
    },
    {
     "data": {
      "image/png": "[encoded data removed]",
      "text/plain": [
       "<Figure size 574.125x504 with 1 Axes>"
      ]
     },
     "metadata": {
      "needs_background": "light"
     },
     "output_type": "display_data"
    }
   ],
   "source": [
    "# aggregate count plot for all days with respect to pickup points\n",
    "# factor plot of hour and day w.r.t status\n",
    "sb.factorplot(x = 'req_hour', hue = 'Pickup point', data = df, kind = 'count', size = 7)\n",
    "plt.show()"
   ]
  },
  {
   "cell_type": "code",
   "execution_count": 43,
   "metadata": {},
   "outputs": [],
   "source": [
    "# creating a time slot for various time period of day\n",
    "def time_period(x):\n",
    "    'divide the time of the day into four categories'\n",
    "    if x < 5:\n",
    "        return \"Pre_Morning\"\n",
    "    elif 5 <= x < 10:\n",
    "        return \"Morning_Rush\"\n",
    "    elif 10 <= x < 17:\n",
    "        return \"Day_Time\"\n",
    "    elif 17 <= x < 22:\n",
    "        return \"Evening_Rush\"\n",
    "    else:\n",
    "        return \"Late_Night\"\n",
    "\n",
    "df['time_slot'] = df.req_hour.apply(lambda x: time_period(x))"
   ]
  },
  {
   "cell_type": "code",
   "execution_count": 44,
   "metadata": {},
   "outputs": [
    {
     "data": {
      "text/html": [
       "<div>\n",
       "<style scoped>\n",
       "    .dataframe tbody tr th:only-of-type {\n",
       "        vertical-align: middle;\n",
       "    }\n",
       "\n",
       "    .dataframe tbody tr th {\n",
       "        vertical-align: top;\n",
       "    }\n",
       "\n",
       "    .dataframe thead th {\n",
       "        text-align: right;\n",
       "    }\n",
       "</style>\n",
       "<table border=\"1\" class=\"dataframe\">\n",
       "  <thead>\n",
       "    <tr style=\"text-align: right;\">\n",
       "      <th></th>\n",
       "      <th>Request id</th>\n",
       "      <th>Pickup point</th>\n",
       "      <th>Driver id</th>\n",
       "      <th>Status</th>\n",
       "      <th>Request timestamp</th>\n",
       "      <th>Drop timestamp</th>\n",
       "      <th>req_hour</th>\n",
       "      <th>req_day</th>\n",
       "      <th>time_slot</th>\n",
       "    </tr>\n",
       "  </thead>\n",
       "  <tbody>\n",
       "    <tr>\n",
       "      <th>0</th>\n",
       "      <td>619</td>\n",
       "      <td>Airport</td>\n",
       "      <td>1.0</td>\n",
       "      <td>Trip Completed</td>\n",
       "      <td>2016-07-11 11:51:00</td>\n",
       "      <td>2016-07-11 13:00:00</td>\n",
       "      <td>11</td>\n",
       "      <td>11</td>\n",
       "      <td>Day_Time</td>\n",
       "    </tr>\n",
       "    <tr>\n",
       "      <th>1</th>\n",
       "      <td>867</td>\n",
       "      <td>Airport</td>\n",
       "      <td>1.0</td>\n",
       "      <td>Trip Completed</td>\n",
       "      <td>2016-07-11 17:57:00</td>\n",
       "      <td>2016-07-11 18:47:00</td>\n",
       "      <td>17</td>\n",
       "      <td>11</td>\n",
       "      <td>Evening_Rush</td>\n",
       "    </tr>\n",
       "    <tr>\n",
       "      <th>2</th>\n",
       "      <td>1807</td>\n",
       "      <td>City</td>\n",
       "      <td>1.0</td>\n",
       "      <td>Trip Completed</td>\n",
       "      <td>2016-07-12 09:17:00</td>\n",
       "      <td>2016-07-12 09:58:00</td>\n",
       "      <td>9</td>\n",
       "      <td>12</td>\n",
       "      <td>Morning_Rush</td>\n",
       "    </tr>\n",
       "    <tr>\n",
       "      <th>3</th>\n",
       "      <td>2532</td>\n",
       "      <td>Airport</td>\n",
       "      <td>1.0</td>\n",
       "      <td>Trip Completed</td>\n",
       "      <td>2016-07-12 21:08:00</td>\n",
       "      <td>2016-07-12 22:03:00</td>\n",
       "      <td>21</td>\n",
       "      <td>12</td>\n",
       "      <td>Evening_Rush</td>\n",
       "    </tr>\n",
       "    <tr>\n",
       "      <th>4</th>\n",
       "      <td>3112</td>\n",
       "      <td>City</td>\n",
       "      <td>1.0</td>\n",
       "      <td>Trip Completed</td>\n",
       "      <td>2016-07-13 08:33:16</td>\n",
       "      <td>2016-07-13 09:25:47</td>\n",
       "      <td>8</td>\n",
       "      <td>13</td>\n",
       "      <td>Morning_Rush</td>\n",
       "    </tr>\n",
       "  </tbody>\n",
       "</table>\n",
       "</div>"
      ],
      "text/plain": [
       "   Request id Pickup point  Driver id          Status   Request timestamp  \\\n",
       "0         619      Airport        1.0  Trip Completed 2016-07-11 11:51:00   \n",
       "1         867      Airport        1.0  Trip Completed 2016-07-11 17:57:00   \n",
       "2        1807         City        1.0  Trip Completed 2016-07-12 09:17:00   \n",
       "3        2532      Airport        1.0  Trip Completed 2016-07-12 21:08:00   \n",
       "4        3112         City        1.0  Trip Completed 2016-07-13 08:33:16   \n",
       "\n",
       "       Drop timestamp  req_hour  req_day     time_slot  \n",
       "0 2016-07-11 13:00:00        11       11      Day_Time  \n",
       "1 2016-07-11 18:47:00        17       11  Evening_Rush  \n",
       "2 2016-07-12 09:58:00         9       12  Morning_Rush  \n",
       "3 2016-07-12 22:03:00        21       12  Evening_Rush  \n",
       "4 2016-07-13 09:25:47         8       13  Morning_Rush  "
      ]
     },
     "execution_count": 44,
     "metadata": {},
     "output_type": "execute_result"
    }
   ],
   "source": [
    "df.head()"
   ]
  },
  {
   "cell_type": "code",
   "execution_count": 45,
   "metadata": {},
   "outputs": [
    {
     "data": {
      "text/plain": [
       "Evening_Rush    2342\n",
       "Morning_Rush    2103\n",
       "Day_Time        1224\n",
       "Pre_Morning      578\n",
       "Late_Night       498\n",
       "Name: time_slot, dtype: int64"
      ]
     },
     "execution_count": 45,
     "metadata": {},
     "output_type": "execute_result"
    }
   ],
   "source": [
    "df.time_slot.value_counts()"
   ]
  },
  {
   "cell_type": "code",
   "execution_count": 46,
   "metadata": {},
   "outputs": [
    {
     "name": "stdout",
     "output_type": "stream",
     "text": [
      "Pre_Morning    578\n",
      "Name: time_slot, dtype: int64\n",
      "Morning_Rush    2103\n",
      "Name: time_slot, dtype: int64\n",
      "Day_Time    1224\n",
      "Name: time_slot, dtype: int64\n",
      "Evening_Rush    2342\n",
      "Name: time_slot, dtype: int64\n",
      "Late_Night    498\n",
      "Name: time_slot, dtype: int64\n"
     ]
    }
   ],
   "source": [
    "# another way to look at the trips made in each time slot\n",
    "Pre_Morning = print (df.time_slot[df.time_slot == \"Pre_Morning\"].value_counts())\n",
    "Morning_Rush = print (df.time_slot[df.time_slot == \"Morning_Rush\"].value_counts())\n",
    "Day_Time = print (df.time_slot[df.time_slot == \"Day_Time\"].value_counts())\n",
    "Evening_Rush = print (df.time_slot[df.time_slot == \"Evening_Rush\"].value_counts())\n",
    "Late_Night = print (df.time_slot[df.time_slot == \"Late_Night\"].value_counts())"
   ]
  },
  {
   "cell_type": "code",
   "execution_count": 47,
   "metadata": {},
   "outputs": [
    {
     "data": {
      "image/png": "[encoded data removed]",
      "text/plain": [
       "<Figure size 720x504 with 1 Axes>"
      ]
     },
     "metadata": {
      "needs_background": "light"
     },
     "output_type": "display_data"
    }
   ],
   "source": [
    "# plot time_slot w.r.t to status and identify the problem\n",
    "plt.figure(figsize = (10,7))\n",
    "sb.countplot(x = 'time_slot', hue = 'Status', data = df)\n",
    "plt.show()"
   ]
  },
  {
   "cell_type": "markdown",
   "metadata": {},
   "source": [
    "### Most cancellation occours during morning_rush time slot"
   ]
  },
  {
   "cell_type": "code",
   "execution_count": 50,
   "metadata": {},
   "outputs": [
    {
     "data": {
      "text/plain": [
       "<AxesSubplot:xlabel='Pickup point', ylabel='count'>"
      ]
     },
     "execution_count": 50,
     "metadata": {},
     "output_type": "execute_result"
    },
    {
     "data": {
      "image/png": "[encoded data removed]",
      "text/plain": [
       "<Figure size 504x504 with 1 Axes>"
      ]
     },
     "metadata": {
      "needs_background": "light"
     },
     "output_type": "display_data"
    }
   ],
   "source": [
    "# as you can see in the above plot the higest number of cancellations are in the \"Morning Rush\" time slot\n",
    "plt.figure(figsize = (7,7))\n",
    "df_morning_rush = df[df.time_slot == \"Morning_Rush\"]\n",
    "sb.countplot(x = \"Pickup point\", hue = \"Status\", data = df_morning_rush)"
   ]
  },
  {
   "cell_type": "code",
   "execution_count": 51,
   "metadata": {},
   "outputs": [
    {
     "data": {
      "text/plain": [
       "23"
      ]
     },
     "execution_count": 51,
     "metadata": {},
     "output_type": "execute_result"
    }
   ],
   "source": [
    "#cancellation of cab as per the pickup location for Morning Rush\n",
    "\n",
    "#pickup location is airport.\n",
    "\n",
    "df_airport_cancelled  = df_morning_rush.loc[(df_morning_rush[\"Pickup point\"] == \"Airport\") & (df_morning_rush[\"Status\"] == \"Cancelled\")]\n",
    "len(df_airport_cancelled.index)"
   ]
  },
  {
   "cell_type": "code",
   "execution_count": 52,
   "metadata": {},
   "outputs": [
    {
     "data": {
      "text/plain": [
       "820"
      ]
     },
     "execution_count": 52,
     "metadata": {},
     "output_type": "execute_result"
    }
   ],
   "source": [
    "#pickup location is city\n",
    "\n",
    "df_city_cancelled = df_morning_rush.loc[(df_morning_rush[\"Pickup point\"] == \"City\") & (df_morning_rush[\"Status\"] == \"Cancelled\")]\n",
    "len(df_city_cancelled.index)"
   ]
  },
  {
   "cell_type": "code",
   "execution_count": 53,
   "metadata": {},
   "outputs": [
    {
     "data": {
      "text/plain": [
       "472"
      ]
     },
     "execution_count": 53,
     "metadata": {},
     "output_type": "execute_result"
    }
   ],
   "source": [
    "# let's look at the supply and demand in morning rush hour in the city,\n",
    "\n",
    "df_city_completed_morning_rush = df_morning_rush.loc[(df_morning_rush[\"Pickup point\"] == \"City\") & (df_morning_rush[\"Status\"] == \"Trip Completed\")]\n",
    "len(df_city_completed_morning_rush.index)"
   ]
  },
  {
   "cell_type": "code",
   "execution_count": 54,
   "metadata": {},
   "outputs": [
    {
     "data": {
      "text/plain": [
       "1677"
      ]
     },
     "execution_count": 54,
     "metadata": {},
     "output_type": "execute_result"
    }
   ],
   "source": [
    "df_city_morning_rush  = df_morning_rush.loc[(df_morning_rush[\"Pickup point\"] == \"City\")]\n",
    "len(df_city_morning_rush.index)"
   ]
  },
  {
   "cell_type": "markdown",
   "metadata": {},
   "source": [
    "#### AS WE CAN SEE THAT SUPPLY IS LESS COMPARED TO DEMAND IN CITY DURING MORNING_RUSH."
   ]
  },
  {
   "cell_type": "code",
   "execution_count": 55,
   "metadata": {},
   "outputs": [
    {
     "data": {
      "text/plain": [
       "382"
      ]
     },
     "execution_count": 55,
     "metadata": {},
     "output_type": "execute_result"
    }
   ],
   "source": [
    "# let's look at the supply and demand in morning rush hour at the airport.\n",
    "\n",
    "df_airport_completed_morning_rush = df_morning_rush.loc[(df_morning_rush[\"Pickup point\"] == \"Airport\") & (df_morning_rush[\"Status\"] == \"Trip Completed\")]\n",
    "len(df_airport_completed_morning_rush.index)"
   ]
  },
  {
   "cell_type": "code",
   "execution_count": 56,
   "metadata": {},
   "outputs": [
    {
     "data": {
      "text/plain": [
       "426"
      ]
     },
     "execution_count": 56,
     "metadata": {},
     "output_type": "execute_result"
    }
   ],
   "source": [
    "df_airport_morning_rush  = df_morning_rush.loc[(df_morning_rush[\"Pickup point\"] == \"Airport\")]\n",
    "len(df_airport_morning_rush.index)"
   ]
  },
  {
   "cell_type": "markdown",
   "metadata": {},
   "source": [
    "#### WHEN PICKUP LOCATION IS AIRPORT THERE IS A GOOD BALANCE BETWEEN SUPPLY AND DEMAND,"
   ]
  },
  {
   "cell_type": "code",
   "execution_count": 57,
   "metadata": {},
   "outputs": [
    {
     "data": {
      "image/png": "[encoded data removed]",
      "text/plain": [
       "<Figure size 504x504 with 1 Axes>"
      ]
     },
     "metadata": {
      "needs_background": "light"
     },
     "output_type": "display_data"
    }
   ],
   "source": [
    "# let's look at the supply and demand in evening rush hour\n",
    "plt.figure(figsize = (7,7))\n",
    "df_evening_rush = df[df.time_slot == \"Evening_Rush\"]\n",
    "sb.countplot(x = \"Pickup point\", hue = \"Status\", data = df_evening_rush)\n",
    "plt.show()"
   ]
  },
  {
   "cell_type": "code",
   "execution_count": 58,
   "metadata": {},
   "outputs": [
    {
     "data": {
      "text/plain": [
       "411"
      ]
     },
     "execution_count": 58,
     "metadata": {},
     "output_type": "execute_result"
    }
   ],
   "source": [
    "# let's look at the supply and demand in evening rush hour in the city\n",
    "df_city_completed_evening_rush = df_evening_rush.loc[(df_evening_rush[\"Pickup point\"] == \"City\") & (df_evening_rush[\"Status\"] == \"Trip Completed\")]\n",
    "len(df_city_completed_evening_rush.index)"
   ]
  },
  {
   "cell_type": "code",
   "execution_count": 59,
   "metadata": {},
   "outputs": [
    {
     "data": {
      "text/plain": [
       "542"
      ]
     },
     "execution_count": 59,
     "metadata": {},
     "output_type": "execute_result"
    }
   ],
   "source": [
    "df_city_evening_rush  = df_evening_rush.loc[(df_evening_rush[\"Pickup point\"] == \"City\")]\n",
    "len(df_city_evening_rush.index)"
   ]
  },
  {
   "cell_type": "code",
   "execution_count": 60,
   "metadata": {},
   "outputs": [
    {
     "data": {
      "text/plain": [
       "373"
      ]
     },
     "execution_count": 60,
     "metadata": {},
     "output_type": "execute_result"
    }
   ],
   "source": [
    "# let's look at the supply and demand in evening rush hour from the airport\n",
    "df_airport_completed_evening_rush = df_evening_rush.loc[(df_evening_rush[\"Pickup point\"] == \"Airport\") & (df_evening_rush[\"Status\"] == \"Trip Completed\")]\n",
    "len(df_airport_completed_evening_rush.index)"
   ]
  },
  {
   "cell_type": "code",
   "execution_count": 61,
   "metadata": {},
   "outputs": [
    {
     "data": {
      "text/plain": [
       "1800"
      ]
     },
     "execution_count": 61,
     "metadata": {},
     "output_type": "execute_result"
    }
   ],
   "source": [
    "df_airport_evening_rush  = df_evening_rush.loc[(df_evening_rush[\"Pickup point\"] == \"Airport\")]\n",
    "len(df_airport_evening_rush.index)"
   ]
  },
  {
   "cell_type": "markdown",
   "metadata": {},
   "source": [
    "#### MOSTLY THE CABS ARE NOT AVALIABLE AT AIRPORT DURING EVENING TIME."
   ]
  },
  {
   "cell_type": "code",
   "execution_count": 62,
   "metadata": {},
   "outputs": [
    {
     "data": {
      "text/plain": [
       "106"
      ]
     },
     "execution_count": 62,
     "metadata": {},
     "output_type": "execute_result"
    }
   ],
   "source": [
    "# let's look at the severity problem (of demand and supply) at each location by looking at cancellation of cab in each of the pickup location in evening rush\n",
    "\n",
    "df_airport_cancelled_evening_rush  = df_evening_rush.loc[(df_evening_rush[\"Pickup point\"] == \"Airport\") & (df_evening_rush[\"Status\"] == \"Cancelled\")]\n",
    "len(df_airport_cancelled_evening_rush.index)"
   ]
  },
  {
   "cell_type": "code",
   "execution_count": 63,
   "metadata": {},
   "outputs": [
    {
     "data": {
      "text/plain": [
       "60"
      ]
     },
     "execution_count": 63,
     "metadata": {},
     "output_type": "execute_result"
    }
   ],
   "source": [
    "df_city_cancelled_evening_rush = df_evening_rush.loc[(df_evening_rush[\"Pickup point\"] == \"City\") & (df_evening_rush[\"Status\"] == \"Cancelled\")]\n",
    "len(df_city_cancelled_evening_rush.index)"
   ]
  },
  {
   "cell_type": "code",
   "execution_count": 64,
   "metadata": {},
   "outputs": [
    {
     "data": {
      "text/plain": [
       "21"
      ]
     },
     "execution_count": 64,
     "metadata": {},
     "output_type": "execute_result"
    }
   ],
   "source": [
    "# severity of problem by location in Morning Rush (Unavailability of Cars)\n",
    "\n",
    "df_airport_unavailable_morning_rush  = df_morning_rush.loc[(df_morning_rush[\"Pickup point\"] == \"Airport\") & (df_morning_rush[\"Status\"] == \"No Cars Available\")]\n",
    "len(df_airport_unavailable_morning_rush.index)"
   ]
  },
  {
   "cell_type": "code",
   "execution_count": 65,
   "metadata": {},
   "outputs": [
    {
     "data": {
      "text/plain": [
       "385"
      ]
     },
     "execution_count": 65,
     "metadata": {},
     "output_type": "execute_result"
    }
   ],
   "source": [
    "df_city_unavailable_morning_rush  = df_morning_rush.loc[(df_morning_rush[\"Pickup point\"] == \"City\") & (df_morning_rush[\"Status\"] == \"No Cars Available\")]\n",
    "len(df_city_unavailable_morning_rush.index)"
   ]
  },
  {
   "cell_type": "code",
   "execution_count": 66,
   "metadata": {},
   "outputs": [
    {
     "data": {
      "text/plain": [
       "1321"
      ]
     },
     "execution_count": 66,
     "metadata": {},
     "output_type": "execute_result"
    }
   ],
   "source": [
    "# severity of problem by location in Evening Rush (Unavailability of Cars)\n",
    "\n",
    "df_airport_unavailable_evening_rush  = df_evening_rush.loc[(df_evening_rush[\"Pickup point\"] == \"Airport\") & (df_evening_rush[\"Status\"] == \"No Cars Available\")]\n",
    "len(df_airport_unavailable_evening_rush.index)"
   ]
  },
  {
   "cell_type": "code",
   "execution_count": 67,
   "metadata": {},
   "outputs": [
    {
     "data": {
      "text/plain": [
       "71"
      ]
     },
     "execution_count": 67,
     "metadata": {},
     "output_type": "execute_result"
    }
   ],
   "source": [
    "df_city_unavailable_evening_rush  = df_evening_rush.loc[(df_evening_rush[\"Pickup point\"] == \"City\") & (df_evening_rush[\"Status\"] == \"No Cars Available\")]\n",
    "len(df_city_unavailable_evening_rush.index)"
   ]
  },
  {
   "cell_type": "code",
   "execution_count": 68,
   "metadata": {},
   "outputs": [],
   "source": [
    "# Let's create pie charts instead of a count plots\n",
    "def pie_chart(dataframe):\n",
    "    \"\"\"\n",
    "    creates a pie chart\n",
    "    input: dataframe with a 'category' as index and a numerical column\n",
    "    output: pie chart\n",
    "    \"\"\"\n",
    "    labels = dataframe.index.values\n",
    "    sizes = dataframe['Status'].values\n",
    "        \n",
    "    fig1, ax1 = plt.subplots()\n",
    "    ax1.pie(sizes, labels=labels, autopct='%1.1f%%', shadow=True, startangle=90)\n",
    "    ax1.axis('equal')  # Equal aspect ratio ensures that pie is drawn as a circle.\n",
    "    plt.show()"
   ]
  },
  {
   "cell_type": "code",
   "execution_count": 70,
   "metadata": {},
   "outputs": [
    {
     "data": {
      "text/plain": [
       "<Figure size 720x720 with 0 Axes>"
      ]
     },
     "metadata": {},
     "output_type": "display_data"
    },
    {
     "data": {
      "image/png": "[encoded data removed]",
      "text/plain": [
       "<Figure size 432x288 with 1 Axes>"
      ]
     },
     "metadata": {},
     "output_type": "display_data"
    }
   ],
   "source": [
    "# percentage breakup of status on the basis of pickup location.\n",
    "\n",
    "# Status of trips @ Morning Rush where pickup point is City.\n",
    "\n",
    "df_city = df.loc[(df[\"Pickup point\"] == \"City\") & (df.time_slot == \"Morning_Rush\")]\n",
    "df_city_count = pd.DataFrame(df_city.Status.value_counts())\n",
    "pie_chart(df_city_count)"
   ]
  },
  {
   "cell_type": "code",
   "execution_count": 71,
   "metadata": {},
   "outputs": [
    {
     "data": {
      "image/png": "[encoded data removed]",
      "text/plain": [
       "<Figure size 432x288 with 1 Axes>"
      ]
     },
     "metadata": {},
     "output_type": "display_data"
    }
   ],
   "source": [
    "# Status of trips @ Evening Rush where pickup point is Airport.\n",
    "\n",
    "df_airport = df.loc[(df[\"Pickup point\"] == \"Airport\") & (df.time_slot == \"Evening_Rush\")] \n",
    "df_airport_count = pd.DataFrame(df_airport.Status.value_counts())\n",
    "pie_chart(df_airport_count)"
   ]
  },
  {
   "cell_type": "code",
   "execution_count": null,
   "metadata": {},
   "outputs": [],
   "source": []
  }
 ],
 "metadata": {
  "kernelspec": {
   "display_name": "Python 3",
   "language": "python",
   "name": "python3"
  },
  "language_info": {
   "codemirror_mode": {
    "name": "ipython",
    "version": 3
   },
   "file_extension": ".py",
   "mimetype": "text/x-python",
   "name": "python",
   "nbconvert_exporter": "python",
   "pygments_lexer": "ipython3",
   "version": "3.8.5"
  }
 },
 "nbformat": 4,
 "nbformat_minor": 4
}
